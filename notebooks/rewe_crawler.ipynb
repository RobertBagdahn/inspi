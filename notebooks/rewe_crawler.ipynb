{
 "cells": [
  {
   "cell_type": "code",
   "execution_count": 3,
   "metadata": {},
   "outputs": [
    {
     "name": "stdout",
     "output_type": "stream",
     "text": [
      "403\n",
      "Price: None\n"
     ]
    }
   ],
   "source": [
    "import requests\n",
    "from bs4 import BeautifulSoup\n",
    "\n",
    "def rewe_crawler(url):\n",
    "    # Send a GET request to the URL\n",
    "\n",
    "    headers = {'User-Agent': 'Mozilla/5.0', 'Accept-Language': 'en-US, en;q=0.5'}\n",
    "    response = requests.get(url, headers=headers)\n",
    "    \n",
    "    # Check if the request was successful\n",
    "    print(response.status_code)\n",
    "    if response.status_code == 200:\n",
    "        # Create a BeautifulSoup object to parse the HTML content\n",
    "        soup = BeautifulSoup(response.content, 'html.parser')\n",
    "        \n",
    "        # Extract the price\n",
    "        print(soup.find('h1', class_='pdpr-Title'))\n",
    "        price = soup.find('h1', class_='pdpr-Title').text.strip()\n",
    "        \n",
    "        # # Extract the weight\n",
    "        # weight = soup.find('span', class_='weight').text.strip()\n",
    "        \n",
    "        # # Extract the allergens\n",
    "        # allergens = soup.find('div', class_='allergens').text.strip()\n",
    "        \n",
    "        # # Extract the ingredients\n",
    "        # ingredients = soup.find('div', class_='ingredients').text.strip()\n",
    "        \n",
    "        # Return the extracted data\n",
    "        return price #, weight, allergens, ingredients\n",
    "    else:\n",
    "        # Return None if the request was not successful\n",
    "        return None\n",
    "\n",
    "# Example usage\n",
    "url = 'https://shop.rewe.de/p/delverde-farfalle-500g/8925330'\n",
    "price = rewe_crawler(url)\n",
    "print('Price:', price)\n",
    "# print('Weight:', weight)\n",
    "# print('Allergens:', allergens)\n",
    "# print('Ingredients:', ingredients)"
   ]
  }
 ],
 "metadata": {
  "kernelspec": {
   "display_name": "Python 3",
   "language": "python",
   "name": "python3"
  },
  "language_info": {
   "codemirror_mode": {
    "name": "ipython",
    "version": 3
   },
   "file_extension": ".py",
   "mimetype": "text/x-python",
   "name": "python",
   "nbconvert_exporter": "python",
   "pygments_lexer": "ipython3",
   "version": "3.11.4"
  }
 },
 "nbformat": 4,
 "nbformat_minor": 2
}
